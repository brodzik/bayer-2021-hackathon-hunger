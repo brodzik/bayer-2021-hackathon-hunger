{
 "cells": [
  {
   "cell_type": "code",
   "execution_count": 1,
   "id": "acceptable-maintenance",
   "metadata": {},
   "outputs": [],
   "source": [
    "import glob\n",
    "import pandas as pd\n",
    "import numpy as np\n",
    "import cv2\n",
    "import matplotlib.pyplot as plt\n",
    "import seaborn as sns\n",
    "from tqdm.notebook import tqdm\n",
    "import os\n",
    "from sklearn.model_selection import train_test_split"
   ]
  },
  {
   "cell_type": "code",
   "execution_count": 2,
   "id": "intelligent-african",
   "metadata": {},
   "outputs": [],
   "source": [
    "df = pd.read_csv(\"../data_additional2.csv\")"
   ]
  },
  {
   "cell_type": "code",
   "execution_count": 3,
   "id": "abroad-contractor",
   "metadata": {},
   "outputs": [],
   "source": [
    "df = df[df[\"diseased\"] == 0] # Removes examples with unknown disease"
   ]
  },
  {
   "cell_type": "code",
   "execution_count": 4,
   "id": "enormous-palestine",
   "metadata": {},
   "outputs": [],
   "source": [
    "TARGETS = [\"bacterial_spot\", \"black_measles\", \"black_mold\", \"black_rot\", \"black_spot\", \"blast\", \"blight\", \"brown_spot\", \"canker\", \"dot\", \"early_blight\", \"gray_spot\", \"greening\", \"healthy\", \"late_blight\", \"leaf_mold\", \"leaf_scorch\", \"melanose\", \"miner\", \"mosaic_virus\", \"mummification\", \"powdery_mildew\", \"rust\", \"scab\", \"scald\", \"septoria_leaf_spot\", \"spot\", \"target_spot\", \"tungro\", \"two_spotted_spider_mite\", \"virus\", \"yellow_leaf_curl_virus\"]"
   ]
  },
  {
   "cell_type": "code",
   "execution_count": 5,
   "id": "competitive-monroe",
   "metadata": {},
   "outputs": [
    {
     "name": "stdout",
     "output_type": "stream",
     "text": [
      "bacterial_spot 7233 73225 10.123738421125397\n",
      "black_measles 1383 79075 57.176428054953\n",
      "black_mold 79 80379 1017.4556962025316\n",
      "black_rot 1801 78657 43.6740699611327\n",
      "black_spot 21 80437 3830.3333333333335\n",
      "blast 1514 78944 52.14266842800529\n",
      "blight 3789 76669 20.23462655054104\n",
      "brown_spot 1689 78769 46.636471284783894\n",
      "canker 155 80303 518.083870967742\n",
      "dot 76 80382 1057.657894736842\n",
      "early_blight 2871 77587 27.02438174851968\n",
      "gray_spot 84 80374 956.8333333333334\n",
      "greening 5522 74936 13.570445490764216\n",
      "healthy 19011 61447 3.2321813686812897\n",
      "late_blight 4923 75535 15.34328661385334\n",
      "leaf_mold 1714 78744 45.941656942823805\n",
      "leaf_scorch 1109 79349 71.55004508566276\n",
      "melanose 13 80445 6188.076923076923\n",
      "miner 257 80201 312.0661478599222\n",
      "mosaic_virus 794 79664 100.33249370277078\n",
      "mummification 83 80375 968.3734939759037\n",
      "powdery_mildew 3044 77414 25.431668856767413\n",
      "rust 1822 78636 43.159165751920966\n",
      "scab 685 79773 116.45693430656934\n",
      "scald 74 80384 1086.2702702702702\n",
      "septoria_leaf_spot 3188 77270 24.23776662484316\n",
      "spot 553 79905 144.49367088607596\n",
      "target_spot 2528 77930 30.826740506329113\n",
      "tungro 1384 79074 57.134393063583815\n",
      "two_spotted_spider_mite 3017 77441 25.668213457076565\n",
      "virus 288 80170 278.36805555555554\n",
      "yellow_leaf_curl_virus 9754 70704 7.248718474472011\n"
     ]
    }
   ],
   "source": [
    "pos_weight = []\n",
    "\n",
    "for t in TARGETS:\n",
    "    pos = (df[t] == 1).sum()\n",
    "    neg = (df[t] == 0).sum()\n",
    "    print(t, pos, neg, neg/pos)\n",
    "    pos_weight.append(neg/pos)"
   ]
  },
  {
   "cell_type": "code",
   "execution_count": 6,
   "id": "final-notebook",
   "metadata": {},
   "outputs": [
    {
     "data": {
      "text/plain": [
       "[10.123738421125397,\n",
       " 57.176428054953,\n",
       " 1017.4556962025316,\n",
       " 43.6740699611327,\n",
       " 3830.3333333333335,\n",
       " 52.14266842800529,\n",
       " 20.23462655054104,\n",
       " 46.636471284783894,\n",
       " 518.083870967742,\n",
       " 1057.657894736842,\n",
       " 27.02438174851968,\n",
       " 956.8333333333334,\n",
       " 13.570445490764216,\n",
       " 3.2321813686812897,\n",
       " 15.34328661385334,\n",
       " 45.941656942823805,\n",
       " 71.55004508566276,\n",
       " 6188.076923076923,\n",
       " 312.0661478599222,\n",
       " 100.33249370277078,\n",
       " 968.3734939759037,\n",
       " 25.431668856767413,\n",
       " 43.159165751920966,\n",
       " 116.45693430656934,\n",
       " 1086.2702702702702,\n",
       " 24.23776662484316,\n",
       " 144.49367088607596,\n",
       " 30.826740506329113,\n",
       " 57.134393063583815,\n",
       " 25.668213457076565,\n",
       " 278.36805555555554,\n",
       " 7.248718474472011]"
      ]
     },
     "execution_count": 6,
     "metadata": {},
     "output_type": "execute_result"
    }
   ],
   "source": [
    "pos_weight"
   ]
  }
 ],
 "metadata": {
  "kernelspec": {
   "display_name": "Python 3",
   "language": "python",
   "name": "python3"
  },
  "language_info": {
   "codemirror_mode": {
    "name": "ipython",
    "version": 3
   },
   "file_extension": ".py",
   "mimetype": "text/x-python",
   "name": "python",
   "nbconvert_exporter": "python",
   "pygments_lexer": "ipython3",
   "version": "3.8.5"
  }
 },
 "nbformat": 4,
 "nbformat_minor": 5
}
