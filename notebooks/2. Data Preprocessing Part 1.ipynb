{
 "cells": [
  {
   "cell_type": "code",
   "execution_count": 1,
   "id": "acceptable-maintenance",
   "metadata": {},
   "outputs": [],
   "source": [
    "import glob\n",
    "import pandas as pd\n",
    "import numpy as np\n",
    "import cv2\n",
    "import matplotlib.pyplot as plt\n",
    "import seaborn as sns\n",
    "from tqdm.notebook import tqdm\n",
    "import os"
   ]
  },
  {
   "cell_type": "code",
   "execution_count": 2,
   "id": "executed-factor",
   "metadata": {},
   "outputs": [],
   "source": [
    "filepaths = glob.glob(\"..\\\\raw_data\\\\**\\\\*.jpg\", recursive=True)"
   ]
  },
  {
   "cell_type": "code",
   "execution_count": 3,
   "id": "wooden-wrist",
   "metadata": {},
   "outputs": [],
   "source": [
    "df = pd.DataFrame(filepaths, columns=[\"img_id\"])\n",
    "df[\"img_id\"] = df[\"img_id\"].apply(lambda x: x.replace(\"..\\\\raw_data\\\\\", \"\"))\n",
    "df[\"plant\"] = df[\"img_id\"].apply(lambda x: x.split(\"\\\\\")[0])\n",
    "df[\"condition\"] = df[\"img_id\"].apply(lambda x: x.split(\"\\\\\")[1])\n",
    "df[\"plant_condition\"] = df[\"plant\"] + \"_\" + df[\"condition\"]"
   ]
  },
  {
   "cell_type": "code",
   "execution_count": 4,
   "id": "parallel-distance",
   "metadata": {},
   "outputs": [],
   "source": [
    "# Source: https://jdhao.github.io/2017/11/06/resize-image-to-square-with-padding/\n",
    "def pad_resize(img, desired_size=256):\n",
    "    old_size = img.shape[:2]\n",
    "    ratio = float(desired_size) / max(old_size)\n",
    "    new_size = tuple([int(x * ratio) for x in old_size])\n",
    "\n",
    "    temp = cv2.resize(img, (new_size[1], new_size[0]))\n",
    "\n",
    "    delta_w = desired_size - new_size[1]\n",
    "    delta_h = desired_size - new_size[0]\n",
    "\n",
    "    top, bottom = delta_h // 2, delta_h - delta_h // 2\n",
    "    left, right = delta_w // 2, delta_w - delta_w // 2\n",
    "\n",
    "    new_img = cv2.copyMakeBorder(temp, top, bottom, left, right, cv2.BORDER_CONSTANT, value=[0, 0, 0])\n",
    "    \n",
    "    return new_img"
   ]
  },
  {
   "cell_type": "code",
   "execution_count": 5,
   "id": "executed-combining",
   "metadata": {
    "scrolled": false
   },
   "outputs": [
    {
     "data": {
      "application/vnd.jupyter.widget-view+json": {
       "model_id": "88c12dc8cfeb4eccae00c11bb63321ee",
       "version_major": 2,
       "version_minor": 0
      },
      "text/plain": [
       "HBox(children=(HTML(value=''), FloatProgress(value=0.0, max=81028.0), HTML(value='')))"
      ]
     },
     "metadata": {},
     "output_type": "display_data"
    },
    {
     "name": "stdout",
     "output_type": "stream",
     "text": [
      "\n"
     ]
    }
   ],
   "source": [
    "for _, row in tqdm(df.iterrows(), total=len(df)):\n",
    "    img = cv2.imread(\"..\\\\raw_data\\\\\" + row[\"img_id\"])\n",
    "    img = pad_resize(img, desired_size=256)\n",
    "\n",
    "    outpath = \"..\\\\preprocessed_data\\\\\" + row[\"img_id\"]\n",
    "    outdir = os.path.dirname(outpath)\n",
    "\n",
    "    if not os.path.isdir(outdir):\n",
    "        os.makedirs(outdir)\n",
    "\n",
    "    cv2.imwrite(outpath, img)"
   ]
  }
 ],
 "metadata": {
  "kernelspec": {
   "display_name": "Python 3",
   "language": "python",
   "name": "python3"
  },
  "language_info": {
   "codemirror_mode": {
    "name": "ipython",
    "version": 3
   },
   "file_extension": ".py",
   "mimetype": "text/x-python",
   "name": "python",
   "nbconvert_exporter": "python",
   "pygments_lexer": "ipython3",
   "version": "3.8.5"
  }
 },
 "nbformat": 4,
 "nbformat_minor": 5
}
