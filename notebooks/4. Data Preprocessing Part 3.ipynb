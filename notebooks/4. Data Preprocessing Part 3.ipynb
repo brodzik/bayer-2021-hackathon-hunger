{
 "cells": [
  {
   "cell_type": "code",
   "execution_count": 1,
   "id": "acceptable-maintenance",
   "metadata": {},
   "outputs": [],
   "source": [
    "import glob\n",
    "import pandas as pd\n",
    "import numpy as np\n",
    "import cv2\n",
    "import matplotlib.pyplot as plt\n",
    "import seaborn as sns\n",
    "from tqdm.notebook import tqdm\n",
    "import os\n",
    "from sklearn.model_selection import train_test_split"
   ]
  },
  {
   "cell_type": "code",
   "execution_count": 2,
   "id": "executed-factor",
   "metadata": {},
   "outputs": [],
   "source": [
    "filepaths = glob.glob(\"..\\\\raw_data_additional\\\\**\\\\*.jpg\", recursive=True)"
   ]
  },
  {
   "cell_type": "code",
   "execution_count": 3,
   "id": "wooden-wrist",
   "metadata": {},
   "outputs": [],
   "source": [
    "df = pd.DataFrame(filepaths, columns=[\"img_id\"])\n",
    "df[\"img_id\"] = df[\"img_id\"].apply(lambda x: x.replace(\"..\\\\raw_data_additional\\\\\", \"\"))\n",
    "df[\"plant\"] = df[\"img_id\"].apply(lambda x: x.split(\"\\\\\")[0])\n",
    "df[\"condition\"] = df[\"img_id\"].apply(lambda x: x.split(\"\\\\\")[1])\n",
    "df[\"plant_condition\"] = df[\"plant\"] + \"_\" + df[\"condition\"]"
   ]
  },
  {
   "cell_type": "code",
   "execution_count": 4,
   "id": "abandoned-diameter",
   "metadata": {},
   "outputs": [
    {
     "data": {
      "text/plain": [
       "615"
      ]
     },
     "execution_count": 4,
     "metadata": {},
     "output_type": "execute_result"
    }
   ],
   "source": [
    "len(df)"
   ]
  },
  {
   "cell_type": "code",
   "execution_count": 5,
   "id": "overhead-currency",
   "metadata": {},
   "outputs": [],
   "source": [
    "for condition in sorted(df[\"condition\"].unique()):\n",
    "    df[condition] = df[\"condition\"].apply(lambda x: int(x == condition))"
   ]
  },
  {
   "cell_type": "code",
   "execution_count": 6,
   "id": "sitting-dating",
   "metadata": {},
   "outputs": [],
   "source": [
    "df[\"additional\"] = (df[\"plant\"] == \"additional\").astype(int)"
   ]
  },
  {
   "cell_type": "code",
   "execution_count": 7,
   "id": "timely-jacksonville",
   "metadata": {},
   "outputs": [],
   "source": [
    "train, dev_test = train_test_split(df, train_size=0.6, random_state=42, shuffle=True, stratify=df[\"plant_condition\"])"
   ]
  },
  {
   "cell_type": "code",
   "execution_count": 8,
   "id": "detailed-marking",
   "metadata": {},
   "outputs": [],
   "source": [
    "dev, test = train_test_split(dev_test, test_size=0.5, random_state=42, shuffle=True, stratify=dev_test[\"plant_condition\"])"
   ]
  },
  {
   "cell_type": "code",
   "execution_count": 9,
   "id": "proved-paintball",
   "metadata": {},
   "outputs": [
    {
     "data": {
      "text/plain": [
       "(369, 123, 123)"
      ]
     },
     "execution_count": 9,
     "metadata": {},
     "output_type": "execute_result"
    }
   ],
   "source": [
    "len(train), len(dev), len(test)"
   ]
  },
  {
   "cell_type": "code",
   "execution_count": 10,
   "id": "accepting-damage",
   "metadata": {},
   "outputs": [
    {
     "name": "stderr",
     "output_type": "stream",
     "text": [
      "<ipython-input-10-c84aa4cf0508>:1: SettingWithCopyWarning: \n",
      "A value is trying to be set on a copy of a slice from a DataFrame.\n",
      "Try using .loc[row_indexer,col_indexer] = value instead\n",
      "\n",
      "See the caveats in the documentation: https://pandas.pydata.org/pandas-docs/stable/user_guide/indexing.html#returning-a-view-versus-a-copy\n",
      "  train[\"split\"] = \"train\"\n",
      "<ipython-input-10-c84aa4cf0508>:2: SettingWithCopyWarning: \n",
      "A value is trying to be set on a copy of a slice from a DataFrame.\n",
      "Try using .loc[row_indexer,col_indexer] = value instead\n",
      "\n",
      "See the caveats in the documentation: https://pandas.pydata.org/pandas-docs/stable/user_guide/indexing.html#returning-a-view-versus-a-copy\n",
      "  dev[\"split\"] = \"dev\"\n",
      "<ipython-input-10-c84aa4cf0508>:3: SettingWithCopyWarning: \n",
      "A value is trying to be set on a copy of a slice from a DataFrame.\n",
      "Try using .loc[row_indexer,col_indexer] = value instead\n",
      "\n",
      "See the caveats in the documentation: https://pandas.pydata.org/pandas-docs/stable/user_guide/indexing.html#returning-a-view-versus-a-copy\n",
      "  test[\"split\"] = \"test\"\n"
     ]
    }
   ],
   "source": [
    "train[\"split\"] = \"train\"\n",
    "dev[\"split\"] = \"dev\"\n",
    "test[\"split\"] = \"test\"\n",
    "\n",
    "df = pd.concat([train, dev, test], axis=0).reset_index(drop=True)"
   ]
  },
  {
   "cell_type": "code",
   "execution_count": 11,
   "id": "corrected-framing",
   "metadata": {},
   "outputs": [
    {
     "data": {
      "text/plain": [
       "<AxesSubplot:xlabel='split', ylabel='Count'>"
      ]
     },
     "execution_count": 11,
     "metadata": {},
     "output_type": "execute_result"
    },
    {
     "data": {
      "image/png": "[encoded data removed]",
      "text/plain": [
       "<Figure size 432x288 with 1 Axes>"
      ]
     },
     "metadata": {
      "needs_background": "light"
     },
     "output_type": "display_data"
    }
   ],
   "source": [
    "sns.histplot(df[\"split\"])"
   ]
  },
  {
   "cell_type": "code",
   "execution_count": 12,
   "id": "minimal-oxide",
   "metadata": {},
   "outputs": [
    {
     "data": {
      "text/plain": [
       "<AxesSubplot:xlabel='plant_condition', ylabel='Count'>"
      ]
     },
     "execution_count": 12,
     "metadata": {},
     "output_type": "execute_result"
    },
    {
     "data": {
      "image/png": "[encoded data removed]",
      "text/plain": [
       "<Figure size 1800x360 with 1 Axes>"
      ]
     },
     "metadata": {
      "needs_background": "light"
     },
     "output_type": "display_data"
    }
   ],
   "source": [
    "plt.figure(figsize=(25, 5))\n",
    "plt.xticks(rotation=90)\n",
    "sns.histplot(data=df, x=\"plant_condition\", hue=\"split\", multiple=\"dodge\")"
   ]
  },
  {
   "cell_type": "code",
   "execution_count": 13,
   "id": "accompanied-terry",
   "metadata": {},
   "outputs": [],
   "source": [
    "data = pd.read_csv(\"../data.csv\")"
   ]
  },
  {
   "cell_type": "code",
   "execution_count": 14,
   "id": "compact-forty",
   "metadata": {},
   "outputs": [],
   "source": [
    "data = data.append(df).fillna(0)"
   ]
  },
  {
   "cell_type": "code",
   "execution_count": 15,
   "id": "protected-external",
   "metadata": {},
   "outputs": [],
   "source": [
    "pos = len(data[data[\"healthy\"] == 1])\n",
    "neg = len(data[data[\"healthy\"] == 0])"
   ]
  },
  {
   "cell_type": "code",
   "execution_count": 16,
   "id": "collectible-probability",
   "metadata": {},
   "outputs": [
    {
     "data": {
      "text/plain": [
       "(19011, 62632, 81643)"
      ]
     },
     "execution_count": 16,
     "metadata": {},
     "output_type": "execute_result"
    }
   ],
   "source": [
    "pos, neg, len(data)"
   ]
  },
  {
   "cell_type": "code",
   "execution_count": 17,
   "id": "intelligent-african",
   "metadata": {},
   "outputs": [],
   "source": [
    "data.to_csv(\"data_additional2.csv\", index=False)"
   ]
  }
 ],
 "metadata": {
  "kernelspec": {
   "display_name": "Python 3",
   "language": "python",
   "name": "python3"
  },
  "language_info": {
   "codemirror_mode": {
    "name": "ipython",
    "version": 3
   },
   "file_extension": ".py",
   "mimetype": "text/x-python",
   "name": "python",
   "nbconvert_exporter": "python",
   "pygments_lexer": "ipython3",
   "version": "3.8.5"
  }
 },
 "nbformat": 4,
 "nbformat_minor": 5
}
